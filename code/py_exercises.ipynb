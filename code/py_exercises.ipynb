{
 "cells": [
  {
   "cell_type": "code",
   "execution_count": 2,
   "metadata": {},
   "outputs": [],
   "source": [
    "import numpy as np \n",
    "import pandas as pd"
   ]
  },
  {
   "cell_type": "markdown",
   "metadata": {},
   "source": [
    "Data is accessed from https://www.kaggle.com/datasets/yasserh/housing-prices-dataset"
   ]
  },
  {
   "cell_type": "code",
   "execution_count": 5,
   "metadata": {},
   "outputs": [],
   "source": [
    "data = pd.read_csv(r'../data/Housing.csv')"
   ]
  },
  {
   "cell_type": "code",
   "execution_count": 20,
   "metadata": {},
   "outputs": [
    {
     "name": "stdout",
     "output_type": "stream",
     "text": [
      "        price  area  bedrooms  bathrooms  stories  mainroad  guestroom  \\\n",
      "0    13300000  7420         4          2        3         1          0   \n",
      "1    12250000  8960         4          4        4         1          0   \n",
      "2    12250000  9960         3          2        2         1          0   \n",
      "3    12215000  7500         4          2        2         1          0   \n",
      "4    11410000  7420         4          1        2         1          1   \n",
      "..        ...   ...       ...        ...      ...       ...        ...   \n",
      "540   1820000  3000         2          1        1         1          0   \n",
      "541   1767150  2400         3          1        1         0          0   \n",
      "542   1750000  3620         2          1        1         1          0   \n",
      "543   1750000  2910         3          1        1         0          0   \n",
      "544   1750000  3850         3          1        2         1          0   \n",
      "\n",
      "     basement  hotwaterheating  airconditioning  parking  prefarea  \\\n",
      "0           0                0                1        2         1   \n",
      "1           0                0                1        3         0   \n",
      "2           1                0                0        2         1   \n",
      "3           1                0                1        3         1   \n",
      "4           1                0                1        2         0   \n",
      "..        ...              ...              ...      ...       ...   \n",
      "540         1                0                0        2         0   \n",
      "541         0                0                0        0         0   \n",
      "542         0                0                0        0         0   \n",
      "543         0                0                0        0         0   \n",
      "544         0                0                0        0         0   \n",
      "\n",
      "    furnishingstatus  \n",
      "0          furnished  \n",
      "1          furnished  \n",
      "2     semi-furnished  \n",
      "3          furnished  \n",
      "4          furnished  \n",
      "..               ...  \n",
      "540      unfurnished  \n",
      "541   semi-furnished  \n",
      "542      unfurnished  \n",
      "543        furnished  \n",
      "544      unfurnished  \n",
      "\n",
      "[545 rows x 13 columns]\n"
     ]
    }
   ],
   "source": [
    "print(data)"
   ]
  },
  {
   "cell_type": "markdown",
   "metadata": {},
   "source": [
    "replacing yes/no to 1/0. "
   ]
  },
  {
   "cell_type": "code",
   "execution_count": 6,
   "metadata": {},
   "outputs": [],
   "source": [
    "for i in ['mainroad', 'guestroom', 'basement', 'hotwaterheating', 'airconditioning', 'prefarea']:\n",
    "    data[i].replace(to_replace=['no', 'yes'], value=[0, 1], inplace = True)"
   ]
  },
  {
   "cell_type": "markdown",
   "metadata": {},
   "source": [
    "\"2. Automate repeating tasks using Python “for” loops.\" and \"3. Break up work into smaller components using Python functions.\"\n",
    "\n",
    "    in the cell above I used for loop that picks the name of the column and puts it into `data[i]` to further apply a function `replace`\n",
    "\n",
    "\"4. Use Python “lists” and “dictionaries” appropriately. Demonstrate one of the two\" \n",
    "    \n",
    "    for loop is basically picking an element from the lists I have specified. "
   ]
  }
 ],
 "metadata": {
  "interpreter": {
   "hash": "40d3a090f54c6569ab1632332b64b2c03c39dcf918b08424e98f38b5ae0af88f"
  },
  "kernelspec": {
   "display_name": "Python 3",
   "language": "python",
   "name": "python3"
  },
  "language_info": {
   "codemirror_mode": {
    "name": "ipython",
    "version": 3
   },
   "file_extension": ".py",
   "mimetype": "text/x-python",
   "name": "python",
   "nbconvert_exporter": "python",
   "pygments_lexer": "ipython3",
   "version": "3.8.8"
  }
 },
 "nbformat": 4,
 "nbformat_minor": 2
}
